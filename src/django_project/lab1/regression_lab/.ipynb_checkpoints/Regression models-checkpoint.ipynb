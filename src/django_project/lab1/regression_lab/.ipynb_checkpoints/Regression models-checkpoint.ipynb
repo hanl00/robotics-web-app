{
 "cells": [
  {
   "cell_type": "code",
   "execution_count": 1,
   "metadata": {},
   "outputs": [
    {
     "name": "stdout",
     "output_type": "stream",
     "text": [
      "(168, 6)\n",
      "(41, 6)\n",
      "(168,)\n"
     ]
    }
   ],
   "source": [
    "# This Python 3 environment comes with many helpful analytics libraries installed\n",
    "# It is defined by the kaggle/python docker image: https://github.com/kaggle/docker-python\n",
    "# For example, here's several helpful packages to load in \n",
    "\n",
    "import numpy as np # linear algebra\n",
    "import pandas as pd # data processing, CSV file I/O (e.g. pd.read_csv)\n",
    "from sklearn import linear_model, metrics\n",
    "from sklearn.metrics import (mean_squared_error, r2_score, mean_absolute_error, \n",
    "mean_squared_log_error, explained_variance_score, max_error)\n",
    "from sklearn.model_selection import LeaveOneOut, cross_val_score, cross_val_predict\n",
    "import matplotlib.pyplot as plt\n",
    "import os\n",
    "from sklearn.model_selection import train_test_split\n",
    "from sklearn.neighbors import KNeighborsClassifier\n",
    "from sklearn.model_selection import cross_val_score, cross_val_predict\n",
    "from sklearn.svm import LinearSVR\n",
    "from sklearn.datasets import make_regression\n",
    "from sklearn.preprocessing import StandardScaler\n",
    "from sklearn.pipeline import Pipeline\n",
    "from sklearn.model_selection import GridSearchCV\n",
    "from sklearn.linear_model import Ridge\n",
    "\n",
    "# Load training and testing data\n",
    "X_train = np.loadtxt(\"X_train.csv\", delimiter=',', skiprows=1)\n",
    "X_test = np.loadtxt(\"X_test.csv\", delimiter=',', skiprows=1)\n",
    "y_train = np.loadtxt(\"y_train.csv\", delimiter=',', skiprows=1)[:,1]\n",
    "\n",
    "#scaling \n",
    "scaler = StandardScaler()\n",
    "X_train_scaled = scaler.fit_transform(X_train)\n",
    "X_test_scaled = scaler.fit_transform(X_test)\n",
    "print(X_train.shape)\n",
    "print(X_test.shape)\n",
    "print(y_train.shape)"
   ]
  },
  {
   "cell_type": "code",
   "execution_count": 2,
   "metadata": {},
   "outputs": [],
   "source": [
    "# Arrange answer in two columns. First column (with header \"Id\") is an\n",
    "# enumeration from 0 to n-1, where n is the number of test points. Second\n",
    "# column (with header \"EpiOrStroma\" is the predictions.\n",
    "def saveFile(y_pred,name):\n",
    "    test_header = \"Id,PRP\"\n",
    "    n_points = X_test.shape[0]\n",
    "    y_pred_pp = np.ones((n_points, 2))\n",
    "    y_pred_pp[:, 0] = range(n_points)\n",
    "    y_pred_pp[:, 1] = y_pred\n",
    "    np.savetxt(name, y_pred_pp, fmt='%d,%f', delimiter=\",\",\n",
    "               header=test_header, comments=\"\")\n"
   ]
  },
  {
   "cell_type": "code",
   "execution_count": 3,
   "metadata": {},
   "outputs": [
    {
     "name": "stdout",
     "output_type": "stream",
     "text": [
      "(117, 6)\n",
      "(51, 6)\n",
      "(117,)\n",
      "(51,)\n",
      "(117, 6)\n",
      "(51, 6)\n"
     ]
    }
   ],
   "source": [
    "X_train1, X_test1, y_train1, y_test1 = train_test_split(X_train, y_train, test_size=0.3, random_state=42)\n",
    "scaler = StandardScaler()\n",
    "\n",
    "#scaling \n",
    "X_train1_scaled = scaler.fit_transform(X_train1)\n",
    "X_test1_scaled = scaler.fit_transform(X_test1)\n",
    "\n",
    "print(X_train1.shape)\n",
    "print(X_test1.shape)\n",
    "print(y_train1.shape)\n",
    "print(y_test1.shape)\n",
    "\n",
    "print(X_train1_scaled.shape)\n",
    "print(X_test1_scaled.shape)"
   ]
  },
  {
   "cell_type": "code",
   "execution_count": 4,
   "metadata": {},
   "outputs": [],
   "source": [
    "# Defining basic untuned regression models\n",
    "\n",
    "def basicLinearSVR(X_train1, X_test1, y_train1, y_test1):\n",
    "    svrReg = LinearSVR(max_iter = 9999)\n",
    "    svrReg.fit(X_train1, y_train1)\n",
    "    y_pred = svrReg.predict(X_test1)\n",
    "    print(\"R2 score: \" + str(svrReg.score(X_test1, y_test1)))\n",
    "    print(\"Explained variance: \" + str(explained_variance_score(y_test1, y_pred)))\n",
    "    print(\"Max error: \" + str(max_error(y_test1, y_pred)))\n",
    "    print(\"Mean absolute error: \" + str(mean_absolute_error(y_test1, y_pred)))\n",
    "    print(\"Mean squared error: \" + str(mean_squared_error(y_test1, y_pred)))\n",
    "    return y_pred"
   ]
  },
  {
   "cell_type": "code",
   "execution_count": 259,
   "metadata": {},
   "outputs": [
    {
     "name": "stdout",
     "output_type": "stream",
     "text": [
      "R2 score: 0.6721523799786628\n",
      "Explained variance: 0.7008958246466583\n",
      "Max error: 239.02935189513892\n",
      "Mean absolute error: 32.451783739509324\n",
      "Mean squared error: 4073.1896711663626\n"
     ]
    },
    {
     "data": {
      "text/plain": [
       "array([177.53298898,  26.11683451,  97.73320001,  36.55420218,\n",
       "        14.63367963,  11.7291645 ,  12.90449778,  14.8741302 ,\n",
       "        67.47502921,  22.98603489,  50.2718444 ,  67.54025541,\n",
       "        55.35378805,  20.88483473,  31.05515259,  39.26522054,\n",
       "       111.73686956,  45.0198708 , 250.13827627,  41.99891728,\n",
       "         8.09016874,  66.25464613,  66.15199239,  19.73717519,\n",
       "        24.25039807,  95.53657688,   0.36992724,  57.9864142 ,\n",
       "       225.9706481 ,  63.52036625,  20.88483473,  19.85926878,\n",
       "        53.17933241,  86.38045925,  30.04552576, 188.49092783,\n",
       "       177.41636678,  36.31066061,  67.13172963,  85.93418493,\n",
       "        23.62835934,  47.21011157,  96.8273066 ,  22.9678555 ,\n",
       "       123.02577893,  48.0720021 ,   8.21016383,  26.5172136 ,\n",
       "       281.06075292,  17.68375742,  -2.27410183])"
      ]
     },
     "execution_count": 259,
     "metadata": {},
     "output_type": "execute_result"
    }
   ],
   "source": [
    "basicLinearSVR(X_train1_scaled, X_test1_scaled, y_train1, y_test1)"
   ]
  },
  {
   "cell_type": "code",
   "execution_count": 278,
   "metadata": {},
   "outputs": [
    {
     "name": "stdout",
     "output_type": "stream",
     "text": [
      "Parameters currently in use:\n",
      "\n",
      "{'C': 1.0, 'dual': True, 'epsilon': 0.0, 'fit_intercept': True, 'intercept_scaling': 1.0, 'loss': 'epsilon_insensitive', 'max_iter': 1000, 'random_state': None, 'tol': 0.0001, 'verbose': 0}\n"
     ]
    }
   ],
   "source": [
    "# Linear Support Vector Regression - Further Tuning with Grid Search\n",
    "lsvr = LinearSVR()\n",
    "# Look at parameters used by our regression\n",
    "print('Parameters currently in use:\\n')\n",
    "print(lsvr.get_params())\n",
    "\n",
    "#Creating the Random Grid\n",
    "#pipe = Pipeline([('regression model' , LinearSVR())])\n",
    "\n",
    "param_grid = [\n",
    "    {#'regression' : [LinearSVR()],\n",
    "    'epsilon' : [0,75, 0.5, 0.25, 0],\n",
    "    'tol' : [1e-4, 2e-4],\n",
    "     'C' : np.linspace(0.5,100,200),\n",
    "    'fit_intercept' : [True, False],\n",
    "    #'intercept_scaling' : [0, 0.5, 1, 1.5, 2],\n",
    "    #'dual' : [True, False],\n",
    "    'verbose' : [0, 1],\n",
    "    'max_iter' : [500, 1000, 1500, 2000, 2500, 3000]}\n",
    "]\n"
   ]
  },
  {
   "cell_type": "code",
   "execution_count": 297,
   "metadata": {},
   "outputs": [
    {
     "name": "stdout",
     "output_type": "stream",
     "text": [
      "[  0.5   1.    1.5   2.    2.5   3.    3.5   4.    4.5   5.    5.5   6.\n",
      "   6.5   7.    7.5   8.    8.5   9.    9.5  10.   10.5  11.   11.5  12.\n",
      "  12.5  13.   13.5  14.   14.5  15.   15.5  16.   16.5  17.   17.5  18.\n",
      "  18.5  19.   19.5  20.   20.5  21.   21.5  22.   22.5  23.   23.5  24.\n",
      "  24.5  25.   25.5  26.   26.5  27.   27.5  28.   28.5  29.   29.5  30.\n",
      "  30.5  31.   31.5  32.   32.5  33.   33.5  34.   34.5  35.   35.5  36.\n",
      "  36.5  37.   37.5  38.   38.5  39.   39.5  40.   40.5  41.   41.5  42.\n",
      "  42.5  43.   43.5  44.   44.5  45.   45.5  46.   46.5  47.   47.5  48.\n",
      "  48.5  49.   49.5  50.   50.5  51.   51.5  52.   52.5  53.   53.5  54.\n",
      "  54.5  55.   55.5  56.   56.5  57.   57.5  58.   58.5  59.   59.5  60.\n",
      "  60.5  61.   61.5  62.   62.5  63.   63.5  64.   64.5  65.   65.5  66.\n",
      "  66.5  67.   67.5  68.   68.5  69.   69.5  70.   70.5  71.   71.5  72.\n",
      "  72.5  73.   73.5  74.   74.5  75.   75.5  76.   76.5  77.   77.5  78.\n",
      "  78.5  79.   79.5  80.   80.5  81.   81.5  82.   82.5  83.   83.5  84.\n",
      "  84.5  85.   85.5  86.   86.5  87.   87.5  88.   88.5  89.   89.5  90.\n",
      "  90.5  91.   91.5  92.   92.5  93.   93.5  94.   94.5  95.   95.5  96.\n",
      "  96.5  97.   97.5  98.   98.5  99.   99.5 100. ]\n"
     ]
    }
   ],
   "source": [
    "print(np.linspace(0.5,100,200))"
   ]
  },
  {
   "cell_type": "code",
   "execution_count": 280,
   "metadata": {},
   "outputs": [
    {
     "name": "stdout",
     "output_type": "stream",
     "text": [
      "Fitting 10 folds for each of 48000 candidates, totalling 480000 fits\n"
     ]
    },
    {
     "name": "stderr",
     "output_type": "stream",
     "text": [
      "[Parallel(n_jobs=-1)]: Using backend LokyBackend with 8 concurrent workers.\n",
      "[Parallel(n_jobs=-1)]: Done  38 tasks      | elapsed:    1.0s\n",
      "[Parallel(n_jobs=-1)]: Done 12436 tasks      | elapsed:    4.3s\n",
      "[Parallel(n_jobs=-1)]: Done 35936 tasks      | elapsed:   10.5s\n",
      "[Parallel(n_jobs=-1)]: Done 68836 tasks      | elapsed:   21.3s\n",
      "[Parallel(n_jobs=-1)]: Done 111136 tasks      | elapsed:   38.8s\n",
      "[Parallel(n_jobs=-1)]: Done 162836 tasks      | elapsed:  1.0min\n",
      "[Parallel(n_jobs=-1)]: Done 223936 tasks      | elapsed:  1.5min\n",
      "[Parallel(n_jobs=-1)]: Done 294436 tasks      | elapsed:  2.1min\n",
      "[Parallel(n_jobs=-1)]: Done 374336 tasks      | elapsed:  2.7min\n",
      "[Parallel(n_jobs=-1)]: Done 463636 tasks      | elapsed:  3.5min\n",
      "[Parallel(n_jobs=-1)]: Done 480000 out of 480000 | elapsed:  3.6min finished\n"
     ]
    },
    {
     "name": "stdout",
     "output_type": "stream",
     "text": [
      "[LibLinear]"
     ]
    },
    {
     "name": "stderr",
     "output_type": "stream",
     "text": [
      "/home/nicholas/anaconda3/lib/python3.7/site-packages/sklearn/model_selection/_search.py:813: DeprecationWarning: The default of the `iid` parameter will change from True to False in version 0.22 and will be removed in 0.24. This will change numeric results when test-set sizes are unequal.\n",
      "  DeprecationWarning)\n"
     ]
    },
    {
     "data": {
      "text/plain": [
       "{'C': 6.5,\n",
       " 'epsilon': 0.5,\n",
       " 'fit_intercept': True,\n",
       " 'max_iter': 1500,\n",
       " 'tol': 0.0002,\n",
       " 'verbose': 1}"
      ]
     },
     "execution_count": 280,
     "metadata": {},
     "output_type": "execute_result"
    }
   ],
   "source": [
    "#fit the model with the parameter\n",
    "reg = GridSearchCV(LinearSVR(), param_grid = param_grid, cv = 10, verbose=True, n_jobs=-1)\n",
    "# Fit the random search model\n",
    "best_reg= reg.fit(X_train1_scaled, y_train1)\n",
    "\n",
    "\n",
    "best_reg.best_params_"
   ]
  },
  {
   "cell_type": "code",
   "execution_count": 294,
   "metadata": {},
   "outputs": [],
   "source": [
    "# tuned regression models\n",
    "\n",
    "def tunedLinearSVR(X_train1, X_test1, y_train1, y_test1):\n",
    "    svrReg = LinearSVR(C= 6.5, epsilon= 0.5, fit_intercept = True, max_iter = 1500, tol = 0.0002, verbose = 1 )\n",
    "    svrReg.fit(X_train1, y_train1)\n",
    "    y_pred = svrReg.predict(X_test1)\n",
    "    print(\"R2 score: \" + str(svrReg.score(X_test1, y_test1)))\n",
    "    print(\"Explained variance: \" + str(explained_variance_score(y_test1, y_pred)))\n",
    "    print(\"Max error: \" + str(max_error(y_test1, y_pred)))\n",
    "    print(\"Mean absolute error: \" + str(mean_absolute_error(y_test1, y_pred)))\n",
    "    print(\"Mean squared error: \" + str(mean_squared_error(y_test1, y_pred)))\n",
    "    return y_pred"
   ]
  },
  {
   "cell_type": "code",
   "execution_count": 295,
   "metadata": {},
   "outputs": [
    {
     "name": "stdout",
     "output_type": "stream",
     "text": [
      "[LibLinear]R2 score: 0.8020073197075291\n",
      "Explained variance: 0.8100024529525531\n",
      "Max error: 181.11212399785097\n",
      "Mean absolute error: 34.448176151688926\n",
      "Mean squared error: 2459.8676064244405\n"
     ]
    }
   ],
   "source": [
    "y_pred = tunedLinearSVR(X_train1_scaled, X_test1_scaled, y_train1, y_test1)\n"
   ]
  },
  {
   "cell_type": "code",
   "execution_count": 301,
   "metadata": {},
   "outputs": [
    {
     "name": "stdout",
     "output_type": "stream",
     "text": [
      "[LibLinear]"
     ]
    },
    {
     "data": {
      "text/plain": [
       "0.8474789235030437"
      ]
     },
     "execution_count": 301,
     "metadata": {},
     "output_type": "execute_result"
    }
   ],
   "source": [
    "svrReg = LinearSVR(C= 100, epsilon= 0.5, fit_intercept = True, max_iter = 3000, tol = 0.0002, verbose = 1 )\n",
    "svrReg.fit(X_train_scaled, y_train)\n",
    "y_pred = svrReg.predict(X_test_scaled)\n",
    "saveFile(y_pred,'svr_tuned_scaled.csv')\n",
    "svrReg.score(X_train_scaled, y_train)"
   ]
  },
  {
   "cell_type": "code",
   "execution_count": null,
   "metadata": {},
   "outputs": [],
   "source": []
  },
  {
   "cell_type": "code",
   "execution_count": null,
   "metadata": {},
   "outputs": [],
   "source": []
  },
  {
   "cell_type": "code",
   "execution_count": 5,
   "metadata": {},
   "outputs": [],
   "source": [
    "#basic model for ridge regression\n",
    "rigReg = Ridge()\n",
    "rigReg.fit(X_train1, y_train1)\n",
    "\n",
    "def basicRidgeReg(X_train1, X_test1, y_train1, y_test1):\n",
    "    rigReg = Ridge()\n",
    "    rigReg.fit(X_train1, y_train1)\n",
    "    y_pred = rigReg.predict(X_test1)\n",
    "    print(\"R2 score: \" + str(rigReg.score(X_test1, y_test1)))\n",
    "    print(\"Explained variance: \" + str(explained_variance_score(y_test1, y_pred)))\n",
    "    print(\"Max error: \" + str(max_error(y_test1, y_pred)))\n",
    "    print(\"Mean absolute error: \" + str(mean_absolute_error(y_test1, y_pred)))\n",
    "    print(\"Mean squared error: \" + str(mean_squared_error(y_test1, y_pred)))\n",
    "    return y_pred"
   ]
  },
  {
   "cell_type": "code",
   "execution_count": 6,
   "metadata": {},
   "outputs": [
    {
     "name": "stdout",
     "output_type": "stream",
     "text": [
      "R2 score: 0.7825060598137341\n",
      "Explained variance: 0.7897274648240552\n",
      "Max error: 186.00460404912445\n",
      "Mean absolute error: 35.13322383229487\n",
      "Mean squared error: 2702.151904138626\n"
     ]
    },
    {
     "data": {
      "text/plain": [
       "array([244.67413306,   3.60428569, 120.32052783,  35.87954244,\n",
       "        -6.84974768, -14.31132657,  -9.97508057, -14.93014543,\n",
       "        83.55025995,  28.89142762,  69.74994622,  90.59002238,\n",
       "        86.38847148,  31.57949605,  24.27283306,  75.07755755,\n",
       "       125.92698484,  36.02575197, 465.84092056,  34.7669558 ,\n",
       "        -9.67020154, 113.63825911,  73.2928649 ,   9.80244081,\n",
       "         5.86985328, 150.25376163,  17.00606619,  60.49107861,\n",
       "       455.77055124, 112.06271361,  31.57949605,   6.12693791,\n",
       "        55.73982761, 102.68640076,  41.65242223, 326.00460405,\n",
       "       304.43478124,  42.88015438, 103.83633654, 120.93277589,\n",
       "        53.86453507,  56.24675112, 111.49778129,  17.48158777,\n",
       "       222.16424562,  50.94388459,  -4.92303542,  19.07002806,\n",
       "       522.6054014 ,   5.98412926,  38.67326368])"
      ]
     },
     "execution_count": 6,
     "metadata": {},
     "output_type": "execute_result"
    }
   ],
   "source": [
    "basicRidgeReg(X_train1, X_test1, y_train1, y_test1)"
   ]
  },
  {
   "cell_type": "code",
   "execution_count": 7,
   "metadata": {},
   "outputs": [
    {
     "name": "stdout",
     "output_type": "stream",
     "text": [
      "Parameters currently in use:\n",
      "\n",
      "{'alpha': 1.0, 'copy_X': True, 'fit_intercept': True, 'max_iter': None, 'normalize': False, 'random_state': None, 'solver': 'auto', 'tol': 0.001}\n"
     ]
    }
   ],
   "source": [
    "# Ridge Regression - Further Tuning with Grid Search\n",
    "rr = Ridge()\n",
    "# Look at parameters used by our regression\n",
    "print('Parameters currently in use:\\n')\n",
    "print(rr.get_params())\n",
    "\n",
    "\n",
    "#Creating the Random Grid\n",
    "#pipe = Pipeline([('regression model' , LinearSVR())])\n",
    "\n",
    "param_grid = [\n",
    "    {'alpha' : np.linspace(0.5,10,20),\n",
    "    'copy_X' : [True, False],\n",
    "    'fit_intercept' : [True, False],\n",
    "    'max_iter' :  [None, 5, 10, 25, 50],\n",
    "    'normalize' : [True, False],\n",
    "    'random_state' : [None, 2,3,4,5,6,7,8,9,10],\n",
    "    'solver' : ['auto', 'svd', 'cholesky', 'lsqr', 'sparse_cg', 'sag', 'saga'],\n",
    "    'tol' : [1e-4, 2e-4]}\n",
    "]"
   ]
  },
  {
   "cell_type": "code",
   "execution_count": 8,
   "metadata": {
    "scrolled": false
   },
   "outputs": [
    {
     "name": "stdout",
     "output_type": "stream",
     "text": [
      "Fitting 10 folds for each of 1097600 candidates, totalling 10976000 fits\n"
     ]
    },
    {
     "name": "stderr",
     "output_type": "stream",
     "text": [
      "[Parallel(n_jobs=-1)]: Using backend LokyBackend with 8 concurrent workers.\n",
      "[Parallel(n_jobs=-1)]: Done  38 tasks      | elapsed:    1.0s\n",
      "[Parallel(n_jobs=-1)]: Done 11638 tasks      | elapsed:    4.5s\n",
      "[Parallel(n_jobs=-1)]: Done 34138 tasks      | elapsed:   10.8s\n",
      "[Parallel(n_jobs=-1)]: Done 65638 tasks      | elapsed:   21.9s\n",
      "[Parallel(n_jobs=-1)]: Done 106138 tasks      | elapsed:   38.2s\n",
      "[Parallel(n_jobs=-1)]: Done 155638 tasks      | elapsed:   58.0s\n",
      "[Parallel(n_jobs=-1)]: Done 214138 tasks      | elapsed:  1.4min\n",
      "[Parallel(n_jobs=-1)]: Done 281638 tasks      | elapsed:  1.8min\n",
      "[Parallel(n_jobs=-1)]: Done 358138 tasks      | elapsed:  2.3min\n",
      "[Parallel(n_jobs=-1)]: Done 443638 tasks      | elapsed:  2.9min\n",
      "[Parallel(n_jobs=-1)]: Done 538138 tasks      | elapsed:  3.5min\n",
      "[Parallel(n_jobs=-1)]: Done 641638 tasks      | elapsed:  4.2min\n",
      "[Parallel(n_jobs=-1)]: Done 754138 tasks      | elapsed:  5.0min\n",
      "[Parallel(n_jobs=-1)]: Done 875638 tasks      | elapsed:  5.8min\n",
      "[Parallel(n_jobs=-1)]: Done 1006138 tasks      | elapsed:  6.7min\n",
      "[Parallel(n_jobs=-1)]: Done 1145638 tasks      | elapsed:  7.7min\n",
      "[Parallel(n_jobs=-1)]: Done 1294138 tasks      | elapsed:  8.7min\n",
      "[Parallel(n_jobs=-1)]: Done 1451638 tasks      | elapsed:  9.7min\n",
      "[Parallel(n_jobs=-1)]: Done 1618138 tasks      | elapsed: 10.8min\n",
      "[Parallel(n_jobs=-1)]: Done 1793638 tasks      | elapsed: 12.0min\n",
      "[Parallel(n_jobs=-1)]: Done 1978138 tasks      | elapsed: 13.2min\n",
      "[Parallel(n_jobs=-1)]: Done 2171638 tasks      | elapsed: 14.5min\n",
      "[Parallel(n_jobs=-1)]: Done 2374138 tasks      | elapsed: 15.9min\n",
      "[Parallel(n_jobs=-1)]: Done 2585638 tasks      | elapsed: 17.3min\n",
      "[Parallel(n_jobs=-1)]: Done 2806138 tasks      | elapsed: 18.8min\n",
      "[Parallel(n_jobs=-1)]: Done 3035638 tasks      | elapsed: 20.3min\n",
      "[Parallel(n_jobs=-1)]: Done 3274138 tasks      | elapsed: 21.9min\n",
      "[Parallel(n_jobs=-1)]: Done 3521638 tasks      | elapsed: 23.6min\n",
      "[Parallel(n_jobs=-1)]: Done 3778138 tasks      | elapsed: 25.3min\n",
      "[Parallel(n_jobs=-1)]: Done 4043638 tasks      | elapsed: 27.0min\n",
      "[Parallel(n_jobs=-1)]: Done 4318138 tasks      | elapsed: 28.8min\n",
      "[Parallel(n_jobs=-1)]: Done 4601638 tasks      | elapsed: 31.0min\n",
      "[Parallel(n_jobs=-1)]: Done 4894138 tasks      | elapsed: 33.1min\n",
      "[Parallel(n_jobs=-1)]: Done 5195638 tasks      | elapsed: 35.3min\n",
      "[Parallel(n_jobs=-1)]: Done 5506138 tasks      | elapsed: 37.3min\n",
      "[Parallel(n_jobs=-1)]: Done 5825638 tasks      | elapsed: 39.5min\n",
      "[Parallel(n_jobs=-1)]: Done 6154138 tasks      | elapsed: 41.7min\n",
      "[Parallel(n_jobs=-1)]: Done 6491638 tasks      | elapsed: 44.1min\n",
      "[Parallel(n_jobs=-1)]: Done 6838138 tasks      | elapsed: 46.5min\n",
      "[Parallel(n_jobs=-1)]: Done 7193638 tasks      | elapsed: 48.9min\n",
      "[Parallel(n_jobs=-1)]: Done 7559942 tasks      | elapsed: 51.4min\n",
      "[Parallel(n_jobs=-1)]: Done 7941742 tasks      | elapsed: 53.9min\n",
      "[Parallel(n_jobs=-1)]: Done 8351558 tasks      | elapsed: 56.6min\n",
      "[Parallel(n_jobs=-1)]: Done 8654770 tasks      | elapsed: 58.7min\n",
      "[Parallel(n_jobs=-1)]: Done 8872820 tasks      | elapsed: 60.2min\n",
      "[Parallel(n_jobs=-1)]: Done 9095770 tasks      | elapsed: 61.7min\n",
      "[Parallel(n_jobs=-1)]: Done 9323620 tasks      | elapsed: 63.3min\n",
      "[Parallel(n_jobs=-1)]: Done 9590649 tasks      | elapsed: 65.1min\n",
      "[Parallel(n_jobs=-1)]: Done 10027149 tasks      | elapsed: 68.0min\n",
      "[Parallel(n_jobs=-1)]: Done 10472064 tasks      | elapsed: 70.9min\n",
      "[Parallel(n_jobs=-1)]: Done 10926564 tasks      | elapsed: 73.9min\n",
      "[Parallel(n_jobs=-1)]: Done 10976000 out of 10976000 | elapsed: 74.2min finished\n",
      "/home/nicholas/anaconda3/lib/python3.7/site-packages/sklearn/model_selection/_search.py:813: DeprecationWarning: The default of the `iid` parameter will change from True to False in version 0.22 and will be removed in 0.24. This will change numeric results when test-set sizes are unequal.\n",
      "  DeprecationWarning)\n"
     ]
    },
    {
     "data": {
      "text/plain": [
       "{'alpha': 1.0,\n",
       " 'copy_X': True,\n",
       " 'fit_intercept': True,\n",
       " 'max_iter': None,\n",
       " 'normalize': True,\n",
       " 'random_state': 5,\n",
       " 'solver': 'saga',\n",
       " 'tol': 0.0002}"
      ]
     },
     "execution_count": 8,
     "metadata": {},
     "output_type": "execute_result"
    }
   ],
   "source": [
    "#fit the model with the parameter\n",
    "reg = GridSearchCV(Ridge(), param_grid = param_grid, cv = 10, verbose=True, n_jobs=-1)\n",
    "# Fit the random search model\n",
    "best_reg= reg.fit(X_train1_scaled, y_train1)\n",
    "\n",
    "\n",
    "best_reg.best_params_"
   ]
  },
  {
   "cell_type": "code",
   "execution_count": null,
   "metadata": {},
   "outputs": [],
   "source": []
  }
 ],
 "metadata": {
  "kernelspec": {
   "display_name": "Python 3",
   "language": "python",
   "name": "python3"
  },
  "language_info": {
   "codemirror_mode": {
    "name": "ipython",
    "version": 3
   },
   "file_extension": ".py",
   "mimetype": "text/x-python",
   "name": "python",
   "nbconvert_exporter": "python",
   "pygments_lexer": "ipython3",
   "version": "3.7.3"
  }
 },
 "nbformat": 4,
 "nbformat_minor": 2
}
