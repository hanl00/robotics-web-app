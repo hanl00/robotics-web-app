{
 "cells": [
  {
   "cell_type": "code",
   "execution_count": 6,
   "metadata": {},
   "outputs": [],
   "source": [
    "import os\n",
    "import numpy as np # linear algebra\n",
    "import pandas as pd # data processing, CSV file I/O (e.g. pd.read_csv)\n",
    "import matplotlib.pyplot as plt\n",
    "import math\n",
    "\n",
    "#model import \n",
    "from sklearn.neighbors import KNeighborsRegressor\n",
    "\n",
    "#splitting and scaling\n",
    "from sklearn.preprocessing import StandardScaler\n",
    "from sklearn.model_selection import train_test_split\n",
    "\n",
    "#parameter tuning\n",
    "from sklearn.model_selection import GridSearchCV\n",
    "\n",
    "#evaluation\n",
    "from sklearn import linear_model, metrics\n",
    "from sklearn.metrics import (mean_squared_error, r2_score, mean_absolute_error, r2_score,\n",
    "mean_squared_log_error, explained_variance_score, max_error)\n",
    "from sklearn.model_selection import LeaveOneOut, cross_val_score, cross_val_predict\n",
    "\n",
    "#from sklearn.svm import LinearSVR\n",
    "#from sklearn.svm import SVR\n",
    "#from sklearn.datasets import make_regression\n",
    "#from sklearn.preprocessing import StandardScaler\n",
    "#from sklearn.preprocessing import QuantileTransformer\n",
    "#from sklearn.compose import TransformedTargetRegressor\n",
    "#from sklearn.pipeline import Pipeline\n",
    "#from sklearn.model_selection import GridSearchCV\n",
    "\n",
    "import warnings\n",
    "# We silence warnings concerning future version updates\n",
    "warnings.simplefilter(action='ignore', category=FutureWarning)\n",
    "warnings.simplefilter(action='ignore', category=DeprecationWarning)"
   ]
  },
  {
   "cell_type": "code",
   "execution_count": 7,
   "metadata": {},
   "outputs": [],
   "source": [
    "# Load training and testing data\n",
    "X_train = np.loadtxt(\"X_train.csv\", delimiter=',', skiprows=1)\n",
    "X_test = np.loadtxt(\"X_test.csv\", delimiter=',', skiprows=1)\n",
    "y_train = np.loadtxt(\"y_train.csv\", delimiter=',', skiprows=1)[:,1]\n"
   ]
  },
  {
   "cell_type": "code",
   "execution_count": 8,
   "metadata": {},
   "outputs": [],
   "source": [
    "# Substracting Max & Min\n",
    "X_train2 = np.zeros((len(X_train),4))\n",
    "X_test2 = np.zeros((len(X_test),4))\n",
    "\n",
    "X_train2[:,0] = X_train[:,0]\n",
    "X_train2[:,1] = X_train[:,2]-X_train[:,1]\n",
    "X_train2[:,2] = X_train[:,3]\n",
    "X_train2[:,3] = X_train[:,5]-X_train[:,4]\n",
    "\n",
    "X_test2[:,0] = X_test[:,0]\n",
    "X_test2[:,1] = X_test[:,2]-X_test[:,1]\n",
    "X_test2[:,2] = X_test[:,3]\n",
    "X_test2[:,3] = X_test[:,5]-X_test[:,4]\n",
    "\n",
    "scaler = StandardScaler()\n",
    "X_train2_scaled = scaler.fit_transform(X_train2)\n",
    "X_test2_scaled = scaler.fit_transform(X_test2)"
   ]
  },
  {
   "cell_type": "code",
   "execution_count": 9,
   "metadata": {},
   "outputs": [],
   "source": [
    "# Averaging Max & Min\n",
    "X_train3 = np.zeros((len(X_train),4))\n",
    "X_test3 = np.zeros((len(X_test),4))\n",
    "\n",
    "X_train3[:,0] = X_train[:,0]\n",
    "X_train3[:,1] = (X_train[:,2]+X_train[:,1])/2\n",
    "X_train3[:,2] = X_train[:,3]\n",
    "X_train3[:,3] = (X_train[:,5]+X_train[:,4])/2\n",
    "\n",
    "X_test3[:,0] = X_test[:,0]\n",
    "X_test3[:,1] = (X_test[:,2]+X_test[:,1])/2\n",
    "X_test3[:,2] = X_test[:,3]\n",
    "X_test3[:,3] = (X_test[:,5]+X_test[:,4])/2\n",
    "\n",
    "scaler = StandardScaler()\n",
    "X_train3_scaled = scaler.fit_transform(X_train3)\n",
    "X_test3_scaled = scaler.fit_transform(X_test3)"
   ]
  },
  {
   "cell_type": "code",
   "execution_count": 10,
   "metadata": {},
   "outputs": [],
   "source": [
    "#scaling \n",
    "scaler = StandardScaler()\n",
    "X_train_scaled = scaler.fit_transform(X_train)\n",
    "X_test_scaled = scaler.fit_transform(X_test)"
   ]
  },
  {
   "cell_type": "code",
   "execution_count": 11,
   "metadata": {},
   "outputs": [],
   "source": [
    "def saveFile(y_pred,name):\n",
    "    test_header = \"Id,PRP\"\n",
    "    n_points = X_test.shape[0]\n",
    "    y_pred_pp = np.ones((n_points, 2))\n",
    "    y_pred_pp[:, 0] = range(n_points)\n",
    "    y_pred_pp[:, 1] = y_pred\n",
    "    np.savetxt(name, y_pred_pp, fmt='%d,%f', delimiter=\",\",\n",
    "               header=test_header, comments=\"\")\n"
   ]
  },
  {
   "cell_type": "code",
   "execution_count": 12,
   "metadata": {},
   "outputs": [],
   "source": [
    "#split the dataset for training\n",
    "X_train1, X_test1, y_train1, y_test1 = train_test_split(X_train, y_train, test_size=0.3, random_state=42)\n",
    "\n",
    "#scaling split training dataset\n",
    "scaler = StandardScaler()\n",
    "X_train1_scaled = scaler.fit_transform(X_train1)\n",
    "X_test1_scaled = scaler.fit_transform(X_test1)"
   ]
  },
  {
   "cell_type": "code",
   "execution_count": 13,
   "metadata": {},
   "outputs": [],
   "source": [
    "def basicKNR(X_train1, X_test1, y_train1, y_test1):\n",
    "    knr = KNeighborsRegressor()\n",
    "    knr.fit(X_train1, y_train1)\n",
    "    y_pred = knr.predict(X_test1)\n",
    "    print(\"R2 score: \" + str(knr.score(X_test1, y_test1)))\n",
    "    print(\"Explained variance: \" + str(explained_variance_score(y_test1, y_pred)))\n",
    "    print(\"Max error: \" + str(max_error(y_test1, y_pred)))\n",
    "    print(\"Mean absolute error: \" + str(mean_absolute_error(y_test1, y_pred)))\n",
    "    print(\"Root mean squared error: \" + str(math.sqrt(mean_squared_error(y_test1, y_pred))))"
   ]
  },
  {
   "cell_type": "code",
   "execution_count": 49,
   "metadata": {},
   "outputs": [
    {
     "name": "stdout",
     "output_type": "stream",
     "text": [
      "R2 score: 0.745258685851206\n",
      "Explained variance: 0.7452720740983032\n",
      "Max error: 181.0\n",
      "Mean absolute error: 36.06274509803922\n",
      "Root mean squared error: 56.25757291071063\n"
     ]
    }
   ],
   "source": [
    "basicKNR(X_train1, X_test1, y_train1, y_test1)"
   ]
  },
  {
   "cell_type": "code",
   "execution_count": null,
   "metadata": {},
   "outputs": [],
   "source": [
    "basicKNR(X_train1, X_test1, y_train1, y_test1)"
   ]
  },
  {
   "cell_type": "code",
   "execution_count": 44,
   "metadata": {},
   "outputs": [
    {
     "name": "stdout",
     "output_type": "stream",
     "text": [
      "R2 score: 0.8455452767778092\n",
      "Explained variance: 0.8497178348941711\n",
      "Max error: 170.0\n",
      "Mean absolute error: 28.015686274509807\n",
      "Root mean squared error: 43.80582824505541\n"
     ]
    }
   ],
   "source": [
    "basicKNR(X_train1_scaled, X_test1_scaled, y_train1, y_test1)"
   ]
  },
  {
   "cell_type": "code",
   "execution_count": 31,
   "metadata": {},
   "outputs": [
    {
     "name": "stdout",
     "output_type": "stream",
     "text": [
      "Parameters currently in use:\n",
      "\n",
      "{'algorithm': 'auto', 'leaf_size': 30, 'metric': 'minkowski', 'metric_params': None, 'n_jobs': None, 'n_neighbors': 5, 'p': 2, 'weights': 'uniform'}\n"
     ]
    }
   ],
   "source": [
    "# K neighbors regression - Further Tuning with Grid Search\n",
    "knn = KNeighborsRegressor()\n",
    "# Look at parameters used by our regression\n",
    "print('Parameters currently in use:\\n')\n",
    "print(knn.get_params())\n",
    "\n",
    "\n",
    "#Creating the parameter grid\n",
    "\n",
    "param_grid = [\n",
    "    {'algorithm' : ['auto', 'ball_tree', 'kd_tree', 'brute'],\n",
    "    'leaf_size' : [10,15,20,25,30,40,50],\n",
    "    'n_neighbors' : [2,3,4,5,6,7,8,9,10],\n",
    "    'p' : [1,2],\n",
    "    'weights' : ['uniform', 'distance']}\n",
    "]"
   ]
  },
  {
   "cell_type": "code",
   "execution_count": 11,
   "metadata": {},
   "outputs": [
    {
     "name": "stdout",
     "output_type": "stream",
     "text": [
      "Fitting 10 folds for each of 1008 candidates, totalling 10080 fits\n"
     ]
    },
    {
     "name": "stderr",
     "output_type": "stream",
     "text": [
      "[Parallel(n_jobs=-1)]: Using backend LokyBackend with 8 concurrent workers.\n",
      "[Parallel(n_jobs=-1)]: Done  36 tasks      | elapsed:    1.0s\n",
      "[Parallel(n_jobs=-1)]: Done 10080 out of 10080 | elapsed:    3.9s finished\n"
     ]
    },
    {
     "data": {
      "text/plain": [
       "{'algorithm': 'auto',\n",
       " 'leaf_size': 15,\n",
       " 'n_neighbors': 6,\n",
       " 'p': 1,\n",
       " 'weights': 'distance'}"
      ]
     },
     "execution_count": 11,
     "metadata": {},
     "output_type": "execute_result"
    }
   ],
   "source": [
    "#fit the model with the parameter\n",
    "knn = GridSearchCV(KNeighborsRegressor(), param_grid = param_grid, cv = 10, verbose=True, n_jobs=-1)\n",
    "# Fit the random search model\n",
    "best_reg= knn.fit(X_train1_scaled, y_train1)\n",
    "\n",
    "\n",
    "best_reg.best_params_"
   ]
  },
  {
   "cell_type": "code",
   "execution_count": 41,
   "metadata": {},
   "outputs": [],
   "source": [
    "def tunedKNR(X_train1, X_test1, y_train1, y_test1):\n",
    "    knr = KNeighborsRegressor(algorithm = 'auto', leaf_size = 15, n_neighbors = 6, p = 1, weights = 'distance')\n",
    "    knr.fit(X_train1, y_train1)\n",
    "    y_pred = knr.predict(X_test1)\n",
    "    print(\"R2 score: \" + str(knr.score(X_test1, y_test1)))\n",
    "    print(\"Explained variance: \" + str(explained_variance_score(y_test1, y_pred)))\n",
    "    print(\"Max error: \" + str(max_error(y_test1, y_pred)))\n",
    "    print(\"Mean absolute error: \" + str(mean_absolute_error(y_test1, y_pred)))\n",
    "    print(\"Root mean squared error: \" + str(math.sqrt(mean_squared_error(y_test1, y_pred))))\n",
    "    \n",
    "    return y_pred"
   ]
  },
  {
   "cell_type": "code",
   "execution_count": 43,
   "metadata": {},
   "outputs": [
    {
     "name": "stdout",
     "output_type": "stream",
     "text": [
      "R2 score: 0.8709506172635552\n",
      "Explained variance: 0.8765968443318394\n",
      "Max error: 161.95059200774546\n",
      "Mean absolute error: 24.56248828278559\n",
      "Root mean squared error: 40.04140104982561\n"
     ]
    },
    {
     "data": {
      "text/plain": [
       "array([270.55602753,  22.65084022, 104.5356992 ,  45.88586952,\n",
       "        22.20682092,  21.80611253,  20.08584007,  27.89833962,\n",
       "        81.82786273,  43.33388911,  43.10385853,  71.83508607,\n",
       "        65.6538148 ,  18.81926319,  30.02271761,  29.50344449,\n",
       "       255.98519718,  48.44564355, 396.62557943,  48.3275335 ,\n",
       "        21.58375625,  51.79344579,  74.90410284,  29.76735216,\n",
       "        36.08516353,  98.23421723,  15.01995688,  75.49195737,\n",
       "       388.07558583,  58.18111616,  18.81926319,  30.02105801,\n",
       "        42.3746263 ,  81.00336182,  42.16474203, 301.95059201,\n",
       "       290.74690112,  53.92733158,  66.90917072, 130.16551757,\n",
       "        17.57336017,  54.53483926, 112.60385751,  32.68108296,\n",
       "       176.36683746,  73.70998418,  18.74623587,  30.58593261,\n",
       "       539.33131313,  26.81589614,  13.87223317])"
      ]
     },
     "execution_count": 43,
     "metadata": {},
     "output_type": "execute_result"
    }
   ],
   "source": [
    "tunedKNR(X_train1_scaled, X_test1_scaled, y_train1, y_test1)"
   ]
  },
  {
   "cell_type": "code",
   "execution_count": 18,
   "metadata": {},
   "outputs": [],
   "source": [
    "#run our final prediction\n",
    "knr_tuned = KNeighborsRegressor(algorithm = 'auto', leaf_size = 15, n_neighbors = 6, p = 1, weights = 'distance')\n",
    "knr_tuned.fit(X_train_scaled, y_train)\n",
    "y_pred = knr_tuned.predict(X_test_scaled)\n",
    "saveFile(y_pred, \"kNeighbour_submission.csv\")"
   ]
  },
  {
   "cell_type": "code",
   "execution_count": null,
   "metadata": {},
   "outputs": [],
   "source": []
  }
 ],
 "metadata": {
  "kernelspec": {
   "display_name": "Python 3",
   "language": "python",
   "name": "python3"
  },
  "language_info": {
   "codemirror_mode": {
    "name": "ipython",
    "version": 3
   },
   "file_extension": ".py",
   "mimetype": "text/x-python",
   "name": "python",
   "nbconvert_exporter": "python",
   "pygments_lexer": "ipython3",
   "version": "3.7.3"
  }
 },
 "nbformat": 4,
 "nbformat_minor": 2
}
