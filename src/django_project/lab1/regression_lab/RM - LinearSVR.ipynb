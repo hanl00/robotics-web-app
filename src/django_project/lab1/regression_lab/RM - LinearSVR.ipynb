{
 "cells": [
  {
   "cell_type": "code",
   "execution_count": 1,
   "metadata": {},
   "outputs": [],
   "source": [
    "import os\n",
    "import numpy as np # linear algebra\n",
    "import pandas as pd # data processing, CSV file I/O (e.g. pd.read_csv)\n",
    "import matplotlib.pyplot as plt\n",
    "\n",
    "#model import \n",
    "from sklearn.svm import LinearSVR\n",
    "\n",
    "#splitting and scaling\n",
    "from sklearn.preprocessing import StandardScaler\n",
    "from sklearn.model_selection import train_test_split\n",
    "\n",
    "#parameter tuning\n",
    "from sklearn.model_selection import GridSearchCV\n",
    "\n",
    "#evaluation\n",
    "from sklearn import linear_model, metrics\n",
    "from sklearn.metrics import (mean_squared_error, r2_score, mean_absolute_error, \n",
    "mean_squared_log_error, explained_variance_score, max_error)\n",
    "from sklearn.model_selection import LeaveOneOut, cross_val_score, cross_val_predict\n",
    "\n",
    "#from sklearn.svm import LinearSVR\n",
    "#from sklearn.svm import SVR\n",
    "#from sklearn.datasets import make_regression\n",
    "#from sklearn.preprocessing import StandardScaler\n",
    "#from sklearn.preprocessing import QuantileTransformer\n",
    "#from sklearn.compose import TransformedTargetRegressor\n",
    "#from sklearn.pipeline import Pipeline\n",
    "#from sklearn.model_selection import GridSearchCV\n",
    "\n",
    "import warnings\n",
    "# We silence warnings concerning future version updates\n",
    "warnings.simplefilter(action='ignore', category=FutureWarning)\n",
    "warnings.simplefilter(action='ignore', category=DeprecationWarning)"
   ]
  },
  {
   "cell_type": "code",
   "execution_count": 2,
   "metadata": {},
   "outputs": [],
   "source": [
    "# Load training and testing data\n",
    "X_train = np.loadtxt(\"X_train.csv\", delimiter=',', skiprows=1)\n",
    "X_test = np.loadtxt(\"X_test.csv\", delimiter=',', skiprows=1)\n",
    "y_train = np.loadtxt(\"y_train.csv\", delimiter=',', skiprows=1)[:,1]"
   ]
  },
  {
   "cell_type": "code",
   "execution_count": 3,
   "metadata": {},
   "outputs": [],
   "source": [
    "#scaling\n",
    "scaler = StandardScaler()\n",
    "X_train_scaled = scaler.fit_transform(X_train)\n",
    "X_test_scaled = scaler.fit_transform(X_test)"
   ]
  },
  {
   "cell_type": "code",
   "execution_count": 4,
   "metadata": {},
   "outputs": [],
   "source": [
    "def saveFile(y_pred,name):\n",
    "    test_header = \"Id,PRP\"\n",
    "    n_points = X_test.shape[0]\n",
    "    y_pred_pp = np.ones((n_points, 2))\n",
    "    y_pred_pp[:, 0] = range(n_points)\n",
    "    y_pred_pp[:, 1] = y_pred\n",
    "    np.savetxt(name, y_pred_pp, fmt='%d,%f', delimiter=\",\",\n",
    "               header=test_header, comments=\"\")\n"
   ]
  },
  {
   "cell_type": "code",
   "execution_count": 5,
   "metadata": {},
   "outputs": [],
   "source": [
    "#split the dataset for training\n",
    "X_train1, X_test1, y_train1, y_test1 = train_test_split(X_train, y_train, test_size=0.3, random_state=42)\n",
    "\n",
    "#scaling split training dataset\n",
    "scaler = StandardScaler()\n",
    "X_train1_scaled = scaler.fit_transform(X_train1)\n",
    "X_test1_scaled = scaler.fit_transform(X_test1)"
   ]
  },
  {
   "cell_type": "code",
   "execution_count": 6,
   "metadata": {},
   "outputs": [],
   "source": [
    "# Defining basic untuned Linear SVR regression model\n",
    "\n",
    "def basicLinearSVR(X_train1, X_test1, y_train1, y_test1):\n",
    "    svrReg = LinearSVR(max_iter = 100000)\n",
    "    svrReg.fit(X_train1, y_train1)\n",
    "    y_pred = svrReg.predict(X_test1)\n",
    "    print(\"R2 score: \" + str(svrReg.score(X_train1, y_train1)))\n",
    "    print(\"Explained variance: \" + str(explained_variance_score(y_test1, y_pred)))\n",
    "    print(\"Max error: \" + str(max_error(y_test1, y_pred)))\n",
    "    print(\"Mean absolute error: \" + str(mean_absolute_error(y_test1, y_pred)))\n",
    "    print(\"Mean squared error: \" + str(mean_squared_error(y_test1, y_pred)))\n",
    "    return y_pred"
   ]
  },
  {
   "cell_type": "code",
   "execution_count": 7,
   "metadata": {},
   "outputs": [
    {
     "name": "stdout",
     "output_type": "stream",
     "text": [
      "R2 score: 0.7099560324371561\n",
      "Explained variance: 0.5053430782493595\n",
      "Max error: 279.9663561598935\n",
      "Mean absolute error: 53.431755635995934\n",
      "Mean squared error: 6620.305402472979\n"
     ]
    },
    {
     "name": "stderr",
     "output_type": "stream",
     "text": [
      "/home/nicholas/anaconda3/lib/python3.7/site-packages/sklearn/svm/base.py:929: ConvergenceWarning: Liblinear failed to converge, increase the number of iterations.\n",
      "  \"the number of iterations.\", ConvergenceWarning)\n"
     ]
    },
    {
     "data": {
      "text/plain": [
       "array([397.5010276 ,  50.17019483, 242.85427521,  56.6625412 ,\n",
       "        31.36063715,  31.2753753 ,  28.88870874,  24.6181763 ,\n",
       "       143.10704282,  16.28791559,  32.71076266, 111.92098834,\n",
       "        48.46385281,  60.07059431,  29.55359442,  25.54883122,\n",
       "       315.49410162, 108.49838541, 278.33592534, 102.41181945,\n",
       "        22.72165873,  17.28284905, 125.25996225,  40.96616396,\n",
       "        40.29374014, 201.31318422,  14.34453753, 112.34127777,\n",
       "       229.64339764,  30.84765221,  60.07059431,  15.47676649,\n",
       "        81.1481393 , 166.91446068,  18.68477904, 419.96635616,\n",
       "       239.35664087,  56.24916715,  76.67599737, 137.61777523,\n",
       "        26.24878034, 102.1046307 , 164.78786694,  32.24502589,\n",
       "       179.44554488,  85.48931019,  11.07390507,  63.71479319,\n",
       "       395.7896106 ,  42.55568476,  10.76975242])"
      ]
     },
     "execution_count": 7,
     "metadata": {},
     "output_type": "execute_result"
    }
   ],
   "source": [
    "basicLinearSVR(X_train1, X_test1, y_train1, y_test1)"
   ]
  },
  {
   "cell_type": "code",
   "execution_count": 8,
   "metadata": {},
   "outputs": [
    {
     "name": "stdout",
     "output_type": "stream",
     "text": [
      "R2 score: 0.4985793364344304\n",
      "Explained variance: 0.7009071887115044\n",
      "Max error: 239.03036681910095\n",
      "Mean absolute error: 32.45594189860802\n",
      "Mean squared error: 4073.3840376162925\n"
     ]
    },
    {
     "data": {
      "text/plain": [
       "array([177.53568235,  26.11616007,  97.72609414,  36.55182149,\n",
       "        14.62642806,  11.72016042,  12.89543134,  14.87393761,\n",
       "        67.47040352,  22.97954656,  50.2740813 ,  67.54378803,\n",
       "        55.35260278,  20.84020923,  31.05198004,  39.24134663,\n",
       "       111.73585746,  45.01441047, 250.14172331,  41.9928992 ,\n",
       "         8.07269795,  66.27775851,  66.15004463,  19.72407891,\n",
       "        24.2483988 ,  95.52719127,   0.30712776,  57.98523896,\n",
       "       225.96963318,  63.5370714 ,  20.84020923,  19.86144239,\n",
       "        53.1807604 ,  86.38319459,  30.04515691, 188.47023489,\n",
       "       177.42487197,  36.30124351,  67.13020309,  85.93340504,\n",
       "        23.57990564,  47.20273757,  96.83660516,  22.96383988,\n",
       "       123.01788658,  48.07026398,   8.19204255,  26.50014536,\n",
       "       281.05908739,  17.66694513,  -2.36108015])"
      ]
     },
     "execution_count": 8,
     "metadata": {},
     "output_type": "execute_result"
    }
   ],
   "source": [
    "basicLinearSVR(X_train1_scaled, X_test1_scaled, y_train1, y_test1)"
   ]
  },
  {
   "cell_type": "code",
   "execution_count": 9,
   "metadata": {},
   "outputs": [
    {
     "name": "stdout",
     "output_type": "stream",
     "text": [
      "Parameters currently in use:\n",
      "\n",
      "{'C': 1.0, 'dual': True, 'epsilon': 0.0, 'fit_intercept': True, 'intercept_scaling': 1.0, 'loss': 'epsilon_insensitive', 'max_iter': 1000, 'random_state': None, 'tol': 0.0001, 'verbose': 0}\n"
     ]
    }
   ],
   "source": [
    "# Linear Support Vector Regression - Further Tuning with Grid Search\n",
    "lsvr = LinearSVR()\n",
    "# Look at parameters used by our regression\n",
    "print('Parameters currently in use:\\n')\n",
    "print(lsvr.get_params())\n",
    "\n",
    "#Creating the Random Grid\n",
    "#pipe = Pipeline([('regression model' , LinearSVR())])\n",
    "\n",
    "param_grid = [\n",
    "    {'epsilon' : [0,75, 0.5, 0.25, 0],\n",
    "    'tol' : [1e-4, 2e-4],\n",
    "    'C' : np.linspace(0.5,100,200),\n",
    "    'fit_intercept' : [True, False],\n",
    "    'verbose' : [0, 1],\n",
    "    'max_iter' : [500, 1000, 1500, 2000, 2500, 3000]}\n",
    "]"
   ]
  },
  {
   "cell_type": "code",
   "execution_count": 10,
   "metadata": {},
   "outputs": [
    {
     "name": "stdout",
     "output_type": "stream",
     "text": [
      "Fitting 10 folds for each of 48000 candidates, totalling 480000 fits\n"
     ]
    },
    {
     "name": "stderr",
     "output_type": "stream",
     "text": [
      "[Parallel(n_jobs=-1)]: Using backend LokyBackend with 8 concurrent workers.\n",
      "[Parallel(n_jobs=-1)]: Done  36 tasks      | elapsed:    1.0s\n",
      "[Parallel(n_jobs=-1)]: Done 11147 tasks      | elapsed:    4.2s\n",
      "[Parallel(n_jobs=-1)]: Done 33147 tasks      | elapsed:   10.7s\n",
      "[Parallel(n_jobs=-1)]: Done 63947 tasks      | elapsed:   22.4s\n",
      "[Parallel(n_jobs=-1)]: Done 103547 tasks      | elapsed:   38.2s\n",
      "[Parallel(n_jobs=-1)]: Done 151947 tasks      | elapsed:   58.7s\n",
      "[Parallel(n_jobs=-1)]: Done 209147 tasks      | elapsed:  1.4min\n",
      "[Parallel(n_jobs=-1)]: Done 275147 tasks      | elapsed:  1.9min\n",
      "[Parallel(n_jobs=-1)]: Done 349947 tasks      | elapsed:  2.5min\n",
      "[Parallel(n_jobs=-1)]: Done 433547 tasks      | elapsed:  3.3min\n",
      "[Parallel(n_jobs=-1)]: Done 480000 out of 480000 | elapsed:  3.7min finished\n"
     ]
    },
    {
     "name": "stdout",
     "output_type": "stream",
     "text": [
      "[LibLinear]"
     ]
    },
    {
     "data": {
      "text/plain": [
       "{'C': 6.0,\n",
       " 'epsilon': 0.5,\n",
       " 'fit_intercept': True,\n",
       " 'max_iter': 500,\n",
       " 'tol': 0.0002,\n",
       " 'verbose': 1}"
      ]
     },
     "execution_count": 10,
     "metadata": {},
     "output_type": "execute_result"
    }
   ],
   "source": [
    "#fit the model with the parameter\n",
    "reg = GridSearchCV(LinearSVR(), param_grid = param_grid, cv = 10, verbose=True, n_jobs=-1)\n",
    "# Fit the random search model\n",
    "best_reg= reg.fit(X_train1_scaled, y_train1)\n",
    "\n",
    "\n",
    "best_reg.best_params_"
   ]
  },
  {
   "cell_type": "code",
   "execution_count": 11,
   "metadata": {},
   "outputs": [],
   "source": [
    "def tunedLinearSVR(X_train1, X_test1, y_train1, y_test1):\n",
    "    svrReg = LinearSVR(C = 6, epsilon = 0.5, fit_intercept = True, max_iter = 500, tol = 0.0002, verbose = 0)\n",
    "    svrReg.fit(X_train1, y_train1)\n",
    "    y_pred = svrReg.predict(X_test1)\n",
    "    print(\"R2 score: \" + str(svrReg.score(X_train1, y_train1)))\n",
    "    print(\"Explained variance: \" + str(explained_variance_score(y_test1, y_pred)))\n",
    "    print(\"Max error: \" + str(max_error(y_test1, y_pred)))\n",
    "    print(\"Mean absolute error: \" + str(mean_absolute_error(y_test1, y_pred)))\n",
    "    print(\"Mean squared error: \" + str(mean_squared_error(y_test1, y_pred)))\n",
    "    \n",
    "    return y_pred"
   ]
  },
  {
   "cell_type": "code",
   "execution_count": 12,
   "metadata": {},
   "outputs": [
    {
     "name": "stdout",
     "output_type": "stream",
     "text": [
      "R2 score: 0.8386051184696204\n",
      "Explained variance: 0.7456951402196036\n",
      "Max error: 297.87651413323573\n",
      "Mean absolute error: 48.9273285414242\n",
      "Mean squared error: 4830.738847872142\n"
     ]
    },
    {
     "name": "stderr",
     "output_type": "stream",
     "text": [
      "/home/nicholas/anaconda3/lib/python3.7/site-packages/sklearn/svm/base.py:929: ConvergenceWarning: Liblinear failed to converge, increase the number of iterations.\n",
      "  \"the number of iterations.\", ConvergenceWarning)\n"
     ]
    },
    {
     "data": {
      "text/plain": [
       "array([331.41145413,  45.39571904, 199.24750965,  73.65211504,\n",
       "        32.83868394,  26.53410499,  28.89874658,  20.57687623,\n",
       "       136.89316109,  48.38295707,  75.00455096, 125.76839079,\n",
       "       101.84788136,  55.31565487,  46.27419591,  83.14438906,\n",
       "       239.63108463,  90.02453853, 421.26917723,  89.75873625,\n",
       "        27.23388218,  94.78516471, 112.842588  ,  42.47898697,\n",
       "        39.32771627, 218.45590955,  28.78348597, 105.13789261,\n",
       "       419.14275902, 110.46706195,  55.31565487,  30.19786019,\n",
       "        84.8590965 , 144.37709624,  64.84604023, 437.87651413,\n",
       "       300.50782915,  76.13234728, 121.17731556, 153.61526524,\n",
       "        55.67896496, 110.82008974, 139.07304782,  51.98140268,\n",
       "       255.41753412,  92.00745305,  25.38594039,  57.45901823,\n",
       "       522.23198715,  42.96194258,  38.47742467])"
      ]
     },
     "execution_count": 12,
     "metadata": {},
     "output_type": "execute_result"
    }
   ],
   "source": [
    "tunedLinearSVR(X_train1, X_test1, y_train1, y_test1)"
   ]
  },
  {
   "cell_type": "code",
   "execution_count": 13,
   "metadata": {},
   "outputs": [
    {
     "name": "stdout",
     "output_type": "stream",
     "text": [
      "R2 score: 0.8047055236061277\n",
      "Explained variance: 0.8111766799125693\n",
      "Max error: 180.2690673365624\n",
      "Mean absolute error: 34.29550627950622\n",
      "Mean squared error: 2439.4827138373203\n"
     ]
    },
    {
     "data": {
      "text/plain": [
       "array([288.27186615,  23.72168481, 144.04693774,  41.75932823,\n",
       "         4.060322  ,  -1.48865612,   1.27641316,   3.61561212,\n",
       "        89.38215523,  19.35446902,  68.55547891,  95.67897803,\n",
       "        75.64880481,  19.01969437,  35.13692449,  56.5445864 ,\n",
       "       180.75290464,  54.87585899, 428.82169546,  49.99926243,\n",
       "        -2.96422876,  90.83033389,  84.9736402 ,  11.49648314,\n",
       "        21.54628031, 147.45654925,  -5.55412689,  74.8947261 ,\n",
       "       389.80892295,  88.35372099,  19.01969437,  12.33343412,\n",
       "        71.40934725, 119.73024717,  34.44786437, 320.26906734,\n",
       "       278.98411316,  43.0367963 ,  92.37936423, 129.56394016,\n",
       "        33.0482864 ,  62.92363656, 142.61806262,  19.91328441,\n",
       "       205.41676502,  57.76242344,  -1.50224243,  23.32463219,\n",
       "       487.91742932,  10.77671263,  -4.0092307 ])"
      ]
     },
     "execution_count": 13,
     "metadata": {},
     "output_type": "execute_result"
    }
   ],
   "source": [
    "tunedLinearSVR(X_train1_scaled, X_test1_scaled, y_train1, y_test1)"
   ]
  },
  {
   "cell_type": "code",
   "execution_count": 14,
   "metadata": {},
   "outputs": [],
   "source": [
    "#run our final prediction\n",
    "LinearSVR_tuned = LinearSVR(C = 6, epsilon = 0.5, fit_intercept = True, max_iter = 500, tol = 0.0002, verbose = 0)\n",
    "LinearSVR_tuned.fit(X_train_scaled, y_train)\n",
    "y_pred = LinearSVR_tuned.predict(X_test_scaled)\n",
    "saveFile(y_pred, \"LinearSVR_submission.csv\")"
   ]
  },
  {
   "cell_type": "code",
   "execution_count": null,
   "metadata": {},
   "outputs": [],
   "source": []
  }
 ],
 "metadata": {
  "kernelspec": {
   "display_name": "Python 3",
   "language": "python",
   "name": "python3"
  },
  "language_info": {
   "codemirror_mode": {
    "name": "ipython",
    "version": 3
   },
   "file_extension": ".py",
   "mimetype": "text/x-python",
   "name": "python",
   "nbconvert_exporter": "python",
   "pygments_lexer": "ipython3",
   "version": "3.7.3"
  }
 },
 "nbformat": 4,
 "nbformat_minor": 2
}
