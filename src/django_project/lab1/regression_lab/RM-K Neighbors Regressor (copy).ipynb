{
 "cells": [
  {
   "cell_type": "code",
   "execution_count": 6,
   "metadata": {},
   "outputs": [],
   "source": [
    "import os\n",
    "import numpy as np # linear algebra\n",
    "import pandas as pd # data processing, CSV file I/O (e.g. pd.read_csv)\n",
    "import matplotlib.pyplot as plt\n",
    "import math\n",
    "\n",
    "#model import \n",
    "from sklearn.neighbors import KNeighborsRegressor\n",
    "\n",
    "#splitting and scaling\n",
    "from sklearn.preprocessing import StandardScaler\n",
    "from sklearn.model_selection import train_test_split\n",
    "\n",
    "#parameter tuning\n",
    "from sklearn.model_selection import GridSearchCV\n",
    "\n",
    "#evaluation\n",
    "from sklearn import linear_model, metrics\n",
    "from sklearn.metrics import (mean_squared_error, r2_score, mean_absolute_error, r2_score,\n",
    "mean_squared_log_error, explained_variance_score, max_error)\n",
    "from sklearn.model_selection import LeaveOneOut, cross_val_score, cross_val_predict\n",
    "\n",
    "#from sklearn.svm import LinearSVR\n",
    "#from sklearn.svm import SVR\n",
    "#from sklearn.datasets import make_regression\n",
    "#from sklearn.preprocessing import StandardScaler\n",
    "#from sklearn.preprocessing import QuantileTransformer\n",
    "#from sklearn.compose import TransformedTargetRegressor\n",
    "#from sklearn.pipeline import Pipeline\n",
    "#from sklearn.model_selection import GridSearchCV\n",
    "\n",
    "import warnings\n",
    "# We silence warnings concerning future version updates\n",
    "warnings.simplefilter(action='ignore', category=FutureWarning)\n",
    "warnings.simplefilter(action='ignore', category=DeprecationWarning)"
   ]
  },
  {
   "cell_type": "code",
   "execution_count": 7,
   "metadata": {},
   "outputs": [],
   "source": [
    "# Load training and testing data\n",
    "X_train = np.loadtxt(\"X_train.csv\", delimiter=',', skiprows=1)\n",
    "X_test = np.loadtxt(\"X_test.csv\", delimiter=',', skiprows=1)\n",
    "y_train = np.loadtxt(\"y_train.csv\", delimiter=',', skiprows=1)[:,1]\n"
   ]
  },
  {
   "cell_type": "code",
   "execution_count": 29,
   "metadata": {},
   "outputs": [],
   "source": [
    "# Averaging Max & Min\n",
    "X_train3 = np.zeros((len(X_train),4))\n",
    "X_test3 = np.zeros((len(X_test),4))\n",
    "\n",
    "X_train3[:,0] = X_train[:,0]\n",
    "X_train3[:,1] = (X_train[:,2]+X_train[:,1])/2\n",
    "X_train3[:,2] = X_train[:,3]\n",
    "X_train3[:,3] = (X_train[:,5]+X_train[:,4])/2\n",
    "\n",
    "X_test3[:,0] = X_test[:,0]\n",
    "X_test3[:,1] = (X_test[:,2]+X_test[:,1])/2\n",
    "X_test3[:,2] = X_test[:,3]\n",
    "X_test3[:,3] = (X_test[:,5]+X_test[:,4])/2\n",
    "\n",
    "scaler = StandardScaler()\n",
    "X_train3_scaled = scaler.fit_transform(X_train3)\n",
    "X_test3_scaled = scaler.fit_transform(X_test3)\n"
   ]
  },
  {
   "cell_type": "code",
   "execution_count": 30,
   "metadata": {},
   "outputs": [],
   "source": [
    "#split the dataset for training\n",
    "X_train1_avg, X_test1_avg, y_train1_avg, y_test1_avg = train_test_split(X_train3, y_train, test_size=0.3, random_state=42)\n",
    "\n",
    "#scaling split training dataset\n",
    "scaler = StandardScaler()\n",
    "X_train1_scaled_avg = scaler.fit_transform(X_train1_avg)\n",
    "X_test1_scaled_avg = scaler.fit_transform(X_test1_avg)"
   ]
  },
  {
   "cell_type": "code",
   "execution_count": 31,
   "metadata": {},
   "outputs": [],
   "source": [
    "#scaling \n",
    "scaler = StandardScaler()\n",
    "X_train_scaled = scaler.fit_transform(X_train)\n",
    "X_test_scaled = scaler.fit_transform(X_test)"
   ]
  },
  {
   "cell_type": "code",
   "execution_count": 32,
   "metadata": {},
   "outputs": [],
   "source": [
    "def saveFile(y_pred,name):\n",
    "    test_header = \"Id,PRP\"\n",
    "    n_points = X_test.shape[0]\n",
    "    y_pred_pp = np.ones((n_points, 2))\n",
    "    y_pred_pp[:, 0] = range(n_points)\n",
    "    y_pred_pp[:, 1] = y_pred\n",
    "    np.savetxt(name, y_pred_pp, fmt='%d,%f', delimiter=\",\",\n",
    "               header=test_header, comments=\"\")\n"
   ]
  },
  {
   "cell_type": "code",
   "execution_count": 33,
   "metadata": {},
   "outputs": [],
   "source": [
    "#split the dataset for training\n",
    "X_train1, X_test1, y_train1, y_test1 = train_test_split(X_train, y_train, test_size=0.3, random_state=42)\n",
    "\n",
    "#scaling split training dataset\n",
    "scaler = StandardScaler()\n",
    "X_train1_scaled = scaler.fit_transform(X_train1)\n",
    "X_test1_scaled = scaler.fit_transform(X_test1)"
   ]
  },
  {
   "cell_type": "code",
   "execution_count": 34,
   "metadata": {},
   "outputs": [],
   "source": [
    "def basicKNR(X_train1, X_test1, y_train1, y_test1):\n",
    "    knr = KNeighborsRegressor()\n",
    "    knr.fit(X_train1, y_train1)\n",
    "    y_pred = knr.predict(X_test1)\n",
    "    print(\"R2 score: \" + str(knr.score(X_test1, y_test1)))\n",
    "    print(\"Explained variance: \" + str(explained_variance_score(y_test1, y_pred)))\n",
    "    print(\"Max error: \" + str(max_error(y_test1, y_pred)))\n",
    "    print(\"Mean absolute error: \" + str(mean_absolute_error(y_test1, y_pred)))\n",
    "    print(\"Root mean squared error: \" + str(math.sqrt(mean_squared_error(y_test1, y_pred))))"
   ]
  },
  {
   "cell_type": "code",
   "execution_count": 35,
   "metadata": {},
   "outputs": [
    {
     "name": "stdout",
     "output_type": "stream",
     "text": [
      "R2 score: 0.745258685851206\n",
      "Explained variance: 0.7452720740983032\n",
      "Max error: 181.0\n",
      "Mean absolute error: 36.06274509803922\n",
      "Root mean squared error: 56.25757291071063\n"
     ]
    }
   ],
   "source": [
    "basicKNR(X_train1, X_test1, y_train1, y_test1)"
   ]
  },
  {
   "cell_type": "code",
   "execution_count": 36,
   "metadata": {},
   "outputs": [
    {
     "name": "stdout",
     "output_type": "stream",
     "text": [
      "R2 score: 0.8413630599621043\n",
      "Explained variance: 0.8488234242335814\n",
      "Max error: 215.39999999999998\n",
      "Mean absolute error: 27.51764705882353\n",
      "Root mean squared error: 44.39493876823454\n"
     ]
    }
   ],
   "source": [
    "#with average\n",
    "basicKNR(X_train1_scaled_avg, X_test1_scaled_avg, y_train1_avg, y_test1_avg)"
   ]
  },
  {
   "cell_type": "code",
   "execution_count": 19,
   "metadata": {},
   "outputs": [
    {
     "name": "stdout",
     "output_type": "stream",
     "text": [
      "R2 score: 0.7473844835093151\n",
      "Explained variance: 0.7473936384164462\n",
      "Max error: 178.8\n",
      "Mean absolute error: 35.79607843137255\n",
      "Root mean squared error: 56.02234848176007\n"
     ]
    }
   ],
   "source": [
    "basicKNR(X_train1_avg, X_test1_avg, y_train1_avg, y_test1_avg)"
   ]
  },
  {
   "cell_type": "code",
   "execution_count": 44,
   "metadata": {},
   "outputs": [
    {
     "name": "stdout",
     "output_type": "stream",
     "text": [
      "R2 score: 0.8455452767778092\n",
      "Explained variance: 0.8497178348941711\n",
      "Max error: 170.0\n",
      "Mean absolute error: 28.015686274509807\n",
      "Root mean squared error: 43.80582824505541\n"
     ]
    }
   ],
   "source": [
    "basicKNR(X_train1_scaled, X_test1_scaled, y_train1, y_test1)"
   ]
  },
  {
   "cell_type": "code",
   "execution_count": 37,
   "metadata": {},
   "outputs": [
    {
     "name": "stdout",
     "output_type": "stream",
     "text": [
      "Parameters currently in use:\n",
      "\n",
      "{'algorithm': 'auto', 'leaf_size': 30, 'metric': 'minkowski', 'metric_params': None, 'n_jobs': None, 'n_neighbors': 5, 'p': 2, 'weights': 'uniform'}\n"
     ]
    }
   ],
   "source": [
    "# K neighbors regression - Further Tuning with Grid Search\n",
    "knn = KNeighborsRegressor()\n",
    "# Look at parameters used by our regression\n",
    "print('Parameters currently in use:\\n')\n",
    "print(knn.get_params())\n",
    "\n",
    "\n",
    "#Creating the parameter grid\n",
    "\n",
    "param_grid = [\n",
    "    {'algorithm' : ['auto', 'ball_tree', 'kd_tree', 'brute'],\n",
    "    'leaf_size' : [10,15,20,25,30,40,50],\n",
    "    'n_neighbors' : [2,3,4,5,6,7,8,9,10],\n",
    "    'p' : [1,2],\n",
    "    'weights' : ['uniform', 'distance']}\n",
    "]"
   ]
  },
  {
   "cell_type": "code",
   "execution_count": 38,
   "metadata": {},
   "outputs": [
    {
     "name": "stdout",
     "output_type": "stream",
     "text": [
      "Fitting 10 folds for each of 1008 candidates, totalling 10080 fits\n"
     ]
    },
    {
     "name": "stderr",
     "output_type": "stream",
     "text": [
      "[Parallel(n_jobs=-1)]: Using backend LokyBackend with 8 concurrent workers.\n",
      "[Parallel(n_jobs=-1)]: Done  39 tasks      | elapsed:    1.0s\n",
      "[Parallel(n_jobs=-1)]: Done 10080 out of 10080 | elapsed:    4.0s finished\n"
     ]
    },
    {
     "data": {
      "text/plain": [
       "{'algorithm': 'ball_tree',\n",
       " 'leaf_size': 10,\n",
       " 'n_neighbors': 8,\n",
       " 'p': 1,\n",
       " 'weights': 'distance'}"
      ]
     },
     "execution_count": 38,
     "metadata": {},
     "output_type": "execute_result"
    }
   ],
   "source": [
    "#fit the model with the parameter\n",
    "knn = GridSearchCV(KNeighborsRegressor(), param_grid = param_grid, cv = 10, verbose=True, n_jobs=-1)\n",
    "# Fit the random search model\n",
    "best_reg= knn.fit(X_train1_scaled_avg, y_train1_avg)\n",
    "\n",
    "\n",
    "best_reg.best_params_"
   ]
  },
  {
   "cell_type": "code",
   "execution_count": 39,
   "metadata": {},
   "outputs": [],
   "source": [
    "def tunedKNR(X_train1, X_test1, y_train1, y_test1):\n",
    "    knr = KNeighborsRegressor(algorithm = 'ball_tree', leaf_size = 15, n_neighbors = 8, p = 1, weights = 'distance')\n",
    "    knr.fit(X_train1, y_train1)\n",
    "    y_pred = knr.predict(X_test1)\n",
    "    print(\"R2 score: \" + str(knr.score(X_test1, y_test1)))\n",
    "    print(\"Explained variance: \" + str(explained_variance_score(y_test1, y_pred)))\n",
    "    print(\"Max error: \" + str(max_error(y_test1, y_pred)))\n",
    "    print(\"Mean absolute error: \" + str(mean_absolute_error(y_test1, y_pred)))\n",
    "    print(\"Root mean squared error: \" + str(math.sqrt(mean_squared_error(y_test1, y_pred))))\n",
    "    \n",
    "    return y_pred"
   ]
  },
  {
   "cell_type": "code",
   "execution_count": 40,
   "metadata": {},
   "outputs": [
    {
     "name": "stdout",
     "output_type": "stream",
     "text": [
      "R2 score: 0.869169583493462\n",
      "Explained variance: 0.8708839937974988\n",
      "Max error: 129.51478583367066\n",
      "Mean absolute error: 25.267601077971314\n",
      "Root mean squared error: 40.3167635169427\n"
     ]
    },
    {
     "data": {
      "text/plain": [
       "array([246.99910037,  23.04522103, 104.93539901,  42.75259428,\n",
       "        20.32654471,  20.04776251,  20.01580697,  28.0693336 ,\n",
       "        77.28381749,  39.98229911,  42.8742181 ,  68.76990685,\n",
       "        67.0038312 ,  17.15390789,  33.00948784,  26.33794865,\n",
       "       227.41840047,  52.33600985, 375.95829329,  45.97717575,\n",
       "        19.40167632,  48.28718916,  73.70640047,  30.02283555,\n",
       "        33.56784483, 105.28577498,  16.3335091 ,  72.2240916 ,\n",
       "       355.27913474,  58.14243973,  17.15390789,  31.24012207,\n",
       "        42.44004244,  89.00164006,  41.13817992, 269.51478583,\n",
       "       276.5570052 ,  53.27326785,  68.07453109, 125.14574543,\n",
       "        17.5483679 ,  55.14754485, 115.25344551,  30.15433801,\n",
       "       201.99499632,  71.50203997,  21.46979875,  29.57195553,\n",
       "       493.03135846,  24.27939194,  15.33378089])"
      ]
     },
     "execution_count": 40,
     "metadata": {},
     "output_type": "execute_result"
    }
   ],
   "source": [
    "tunedKNR(X_train1_scaled, X_test1_scaled, y_train1, y_test1)"
   ]
  },
  {
   "cell_type": "code",
   "execution_count": 18,
   "metadata": {},
   "outputs": [],
   "source": [
    "#run our final prediction\n",
    "knr_tuned = KNeighborsRegressor(algorithm = 'auto', leaf_size = 15, n_neighbors = 6, p = 1, weights = 'distance')\n",
    "knr_tuned.fit(X_train_scaled, y_train)\n",
    "y_pred = knr_tuned.predict(X_test_scaled)\n",
    "saveFile(y_pred, \"kNeighbour_submission.csv\")"
   ]
  },
  {
   "cell_type": "code",
   "execution_count": 41,
   "metadata": {},
   "outputs": [
    {
     "name": "stdout",
     "output_type": "stream",
     "text": [
      "R2 score: 0.8505982054646073\n",
      "Explained variance: 0.8543825959411191\n",
      "Max error: 184.00594772188225\n",
      "Mean absolute error: 26.7072571692877\n",
      "Root mean squared error: 43.0833243280906\n"
     ]
    },
    {
     "data": {
      "text/plain": [
       "array([257.46259783,  28.05454947, 121.56744987,  42.25534251,\n",
       "        24.50124471,  22.13792332,  22.77544447,  26.62084118,\n",
       "        81.75741676,  38.20191401,  43.24520578,  86.45552468,\n",
       "        66.06523668,  18.59037994,  34.73369346,  28.29005983,\n",
       "       240.13983106,  52.95914704, 350.95532068,  50.42762304,\n",
       "        21.29235381,  51.56899301,  77.94285838,  31.16763951,\n",
       "        35.81254068, 119.70455758,  16.07392869,  76.13386116,\n",
       "       362.30727555,  59.49488616,  18.59037994,  38.50225457,\n",
       "        53.20726298, 120.95477025,  39.24809048, 324.00594772,\n",
       "       215.10042153,  48.5524122 ,  87.0947623 , 127.18877519,\n",
       "        17.71304968,  55.53528038, 100.028145  ,  36.41845515,\n",
       "       184.5067603 ,  69.65792108,  22.55093334,  30.10179302,\n",
       "       475.11979077,  27.71817115,  15.2120528 ])"
      ]
     },
     "execution_count": 41,
     "metadata": {},
     "output_type": "execute_result"
    }
   ],
   "source": [
    "tunedKNR(X_train1_scaled_avg, X_test1_scaled_avg, y_train1_avg, y_test1_avg)"
   ]
  },
  {
   "cell_type": "code",
   "execution_count": 42,
   "metadata": {},
   "outputs": [],
   "source": [
    "knr_tuned = KNeighborsRegressor(algorithm = 'auto', leaf_size = 15, n_neighbors = 6, p = 1, weights = 'distance')\n",
    "knr_tuned.fit(X_train3_scaled, y_train)\n",
    "y_pred = knr_tuned.predict(X_test3_scaled)\n",
    "saveFile(y_pred, \"kNeighbour_submission_avg.csv\")"
   ]
  },
  {
   "cell_type": "code",
   "execution_count": null,
   "metadata": {},
   "outputs": [],
   "source": [
    "algorithm = 'ball_tree', leaf_size = 15, n_neighbors = 8, p = 1, weights = 'distance'"
   ]
  }
 ],
 "metadata": {
  "kernelspec": {
   "display_name": "Python 3",
   "language": "python",
   "name": "python3"
  },
  "language_info": {
   "codemirror_mode": {
    "name": "ipython",
    "version": 3
   },
   "file_extension": ".py",
   "mimetype": "text/x-python",
   "name": "python",
   "nbconvert_exporter": "python",
   "pygments_lexer": "ipython3",
   "version": "3.7.3"
  }
 },
 "nbformat": 4,
 "nbformat_minor": 2
}
